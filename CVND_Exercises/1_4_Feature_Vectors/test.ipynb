{
 "cells": [
  {
   "cell_type": "markdown",
   "metadata": {},
   "source": [
    "<div style = \"font-family:Georgia;\n",
    "              font-size:2.5vw;\n",
    "              color:lightblue;\n",
    "              font-style:bold;\n",
    "              text-align:center;\n",
    "              background:url('Animations/Title Background.gif') no-repeat center;\n",
    "              background-size:cover)\">\n",
    "              \n",
    "     <br><br>\n",
    "     Histograms of Oriented Gradients (HOG)\n",
    "     <br><br><br>\n",
    "     \n",
    "</div>\n",
   ]
  },
  {
   "cell_type": "markdown",
   "metadata": {},
   "source": [
    "<figure>\n",
    "  <img src = \"Animations/HOG Diagram2.png\" width = \"100%\" style = \"border: thin silver solid; padding: 1px\">\n",
    "      <figcaption style = \"text-align:left; font-style:italic\">Fig. 3. - HOG Diagram.</figcaption>\n",
    "</figure> \n",
    "<br>\n",
    "\n",
    "<figure>\n",
    "<video src = \"Animations/HOG Animation - Medium.mp4\" width=\"100%\" controls autoplay loop> </video>\n",
    "<figcaption style = \"text-align:left; font-style:italic\">Vid. 1. - HOG Animation.</figcaption>\n",
    "</figure> "
   ]
  },
  {
   "cell_type": "markdown",
   "metadata": {
    "collapsed": true
   },
   "source": [
    "<figure>\n",
    "  <img src = \"Animations/snapshot1.png\" width = \"70%\" style = \"border: thin silver solid; padding: 1px\">\n",
    "      <figcaption style = \"text-align:center; font-style:italic\">Fig. 4. - Histograms Inside a Triangle.</figcaption>\n",
    "</figure> \n",
    "<figure>\n",
    "  <img src = \"Animations/snapshot2.png\" width = \"70%\" style = \"border: thin silver solid; padding: 1px\">\n",
    "      <figcaption style = \"text-align:center; font-style:italic\">Fig. 5. - Histograms Near a Horizontal Edge.</figcaption>\n",
    "</figure> \n",
    "<figure>\n",
    "  <img src = \"Animations/snapshot3.png\" width = \"70%\" style = \"border: thin silver solid; padding: 1px\">\n",
    "      <figcaption style = \"text-align:center; font-style:italic\">Fig. 6. - Histograms Near a Vertical Edge.</figcaption>\n",
    "</figure> \n",
    "<figure>\n",
    "  <img src = \"Animations/snapshot4.png\" width = \"70%\" style = \"border: thin silver solid; padding: 1px\">\n",
    "      <figcaption style = \"text-align:center; font-style:italic\">Fig. 7. - Histograms Near a Diagonal Edge.</figcaption>\n",
    "</figure> \n",
   ]
  },
 ],
 "metadata": {
  "kernelspec": {
   "display_name": "Python 3",
   "language": "python",
   "name": "python3"
  },
  "language_info": {
   "codemirror_mode": {
    "name": "ipython",
    "version": 3
   },
   "file_extension": ".py",
   "mimetype": "text/x-python",
   "name": "python",
   "nbconvert_exporter": "python",
   "pygments_lexer": "ipython3",
   "version": "3.6.3"
  }
 },
 "nbformat": 4,
 "nbformat_minor": 2
}
